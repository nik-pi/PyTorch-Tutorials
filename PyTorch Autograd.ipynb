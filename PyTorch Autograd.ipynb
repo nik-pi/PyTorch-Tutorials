{
 "cells": [
  {
   "cell_type": "markdown",
   "metadata": {},
   "source": [
    "# PyTorch Automatic Differentiation with Torch.AutoGrad\n",
    "<img src=\"resources/Cover Images/PyTorch-AutoGrad-Automatic-Differentiation-for-Deep-Learning-Cover-Image.png\" width=450 height=300 />\n",
    "\n",
    "You can find the full written tutorial, with all explanations and code on my website: [link to AutoGrad tutorial](https://datagy.io/pytorch-autograd/).\n"
   ]
  },
  {
   "cell_type": "code",
   "execution_count": 13,
   "metadata": {},
   "outputs": [],
   "source": [
    "# Import our Libraries and Create Data\n",
    "import torch\n",
    "\n",
    "X = torch.tensor([[1.0], [2.0], [3.0], [4.0]], dtype=torch.float32)\n",
    "y = torch.tensor([[3.0], [5.0], [7.0], [9.0]], dtype=torch.float32)"
   ]
  },
  {
   "cell_type": "code",
   "execution_count": 14,
   "metadata": {},
   "outputs": [],
   "source": [
    "# Create a Weight and Bias Tensor\n",
    "W = torch.tensor([[0.0]], requires_grad=True, dtype=torch.float32)\n",
    "b = torch.tensor([[0.0]], requires_grad=True, dtype=torch.float32)"
   ]
  },
  {
   "cell_type": "code",
   "execution_count": 16,
   "metadata": {},
   "outputs": [
    {
     "name": "stdout",
     "output_type": "stream",
     "text": [
      "tensor([[0.],\n",
      "        [0.],\n",
      "        [0.],\n",
      "        [0.]], grad_fn=<AddBackward0>)\n"
     ]
    }
   ],
   "source": [
    "# Run a Single Forward Pass\n",
    "def forward(X):\n",
    "    return X.mm(W) + b\n",
    "\n",
    "y_pred = forward(X)\n",
    "print(y_pred)"
   ]
  },
  {
   "cell_type": "code",
   "execution_count": 17,
   "metadata": {},
   "outputs": [
    {
     "name": "stdout",
     "output_type": "stream",
     "text": [
      "tensor(41., grad_fn=<MeanBackward0>)\n"
     ]
    }
   ],
   "source": [
    "# Calculating the Loss\n",
    "loss = torch.mean((y_pred - y) ** 2)\n",
    "print(loss)"
   ]
  },
  {
   "cell_type": "code",
   "execution_count": 18,
   "metadata": {},
   "outputs": [
    {
     "name": "stdout",
     "output_type": "stream",
     "text": [
      "Gradient Function for Prediction: <AddBackward0 object at 0x7f7e2864daf0>\n",
      "Gradient Function for Loss: <MeanBackward0 object at 0x7f7e2864d6d0>\n"
     ]
    }
   ],
   "source": [
    "# Printing the Gradient Functions\n",
    "print(f'Gradient Function for Prediction: {y_pred.grad_fn}')\n",
    "print(f'Gradient Function for Loss: {loss.grad_fn}')"
   ]
  },
  {
   "cell_type": "code",
   "execution_count": 6,
   "metadata": {},
   "outputs": [
    {
     "name": "stdout",
     "output_type": "stream",
     "text": [
      "Gradient for W: tensor([[-35.]])\n",
      "Gradient for b: tensor([[-12.]])\n"
     ]
    }
   ],
   "source": [
    "# Propagating the Loss Backwards\n",
    "loss.backward()\n",
    "print(f'Gradient for W: {W.grad}')\n",
    "print(f'Gradient for b: {b.grad}')"
   ]
  },
  {
   "cell_type": "code",
   "execution_count": 7,
   "metadata": {},
   "outputs": [],
   "source": [
    "# Update parameters manually using gradients\n",
    "learning_rate = 0.001\n",
    "\n",
    "with torch.no_grad():\n",
    "    W -= learning_rate * W.grad\n",
    "    b -= learning_rate * b.grad"
   ]
  },
  {
   "cell_type": "code",
   "execution_count": 8,
   "metadata": {},
   "outputs": [
    {
     "name": "stdout",
     "output_type": "stream",
     "text": [
      "Current value of W: 0.03500000014901161\n",
      "Current value of b: 0.012000000104308128\n"
     ]
    }
   ],
   "source": [
    "# Printing Our Learned Weights and Bias\n",
    "print(f'Current value of W: {W.detach().item()}')\n",
    "print(f'Current value of b: {b.detach().item()}')"
   ]
  },
  {
   "cell_type": "code",
   "execution_count": 9,
   "metadata": {},
   "outputs": [],
   "source": [
    "# Resetting Our Gradients for Next Training\n",
    "W.grad = None\n",
    "b.grad = None"
   ]
  },
  {
   "cell_type": "markdown",
   "metadata": {},
   "source": [
    "## Adding Functions to Our Flow"
   ]
  },
  {
   "cell_type": "code",
   "execution_count": 10,
   "metadata": {},
   "outputs": [],
   "source": [
    "# Define a Simple Forward Function and Loss Function (MSE)\n",
    "def forward(X, W, b):\n",
    "    return X.mm(W) + b\n",
    "\n",
    "def loss_fn(y_pred, y_true):\n",
    "    return torch.mean((y_pred - y_true) ** 2)"
   ]
  },
  {
   "cell_type": "code",
   "execution_count": 11,
   "metadata": {},
   "outputs": [
    {
     "name": "stdout",
     "output_type": "stream",
     "text": [
      "Epoch: 20 - MSE Loss: 21.63\n",
      "Epoch: 40 - MSE Loss: 11.03\n",
      "Epoch: 60 - MSE Loss: 5.63\n",
      "Epoch: 80 - MSE Loss: 2.88\n",
      "Epoch: 100 - MSE Loss: 1.47\n",
      "Epoch: 120 - MSE Loss: 0.76\n",
      "Epoch: 140 - MSE Loss: 0.39\n",
      "Epoch: 160 - MSE Loss: 0.21\n",
      "Epoch: 180 - MSE Loss: 0.11\n",
      "Epoch: 200 - MSE Loss: 0.06\n"
     ]
    }
   ],
   "source": [
    "import torch\n",
    "import torch.optim as optim\n",
    "\n",
    "learning_rate = 0.001\n",
    "num_epochs = 200\n",
    "print_every = 20\n",
    "\n",
    "X = torch.tensor([[1.0], [2.0], [3.0], [4.0]], dtype=torch.float32)\n",
    "y = torch.tensor([[3.0], [5.0], [7.0], [9.0]], dtype=torch.float32)\n",
    "\n",
    "W = torch.tensor([[0.0]], requires_grad=True, dtype=torch.float32)\n",
    "b = torch.tensor([[0.0]], requires_grad=True, dtype=torch.float32)\n",
    "\n",
    "optimizer = optim.SGD(params=[W, b], lr=learning_rate)\n",
    "\n",
    "for epoch in range(1, num_epochs + 1):\n",
    "    # Zero Out Gradients for Each Epoch\n",
    "    W.grad = None\n",
    "    b.grad = None\n",
    "\n",
    "    # Run a Forward Pass\n",
    "    y_pred = forward(X, W, b)\n",
    "\n",
    "    # Calculate the Loss\n",
    "    loss = loss_fn(y_pred, y)\n",
    "\n",
    "    # Propegate the Loss Backwards\n",
    "    loss.backward()\n",
    "\n",
    "    # Update Parameters\n",
    "    optimizer.step()\n",
    "    # with torch.no_grad():\n",
    "    #     W -= learning_rate * W.grad\n",
    "    #     b -= learning_rate * b.grad\n",
    "    \n",
    "\n",
    "    if epoch % print_every == 0:\n",
    "        print(f'Epoch: {epoch:02} - MSE Loss: {loss:.2f}')\n"
   ]
  },
  {
   "cell_type": "code",
   "execution_count": 12,
   "metadata": {},
   "outputs": [
    {
     "name": "stdout",
     "output_type": "stream",
     "text": [
      "Current value of W: 2.0195605754852295\n",
      "Current value of b: 0.7054842114448547\n"
     ]
    }
   ],
   "source": [
    "# Printing Learned Weights and Biases\n",
    "print(f'Current value of W: {W.detach().item()}')\n",
    "print(f'Current value of b: {b.detach().item()}')"
   ]
  },
  {
   "cell_type": "code",
   "execution_count": null,
   "metadata": {},
   "outputs": [],
   "source": []
  }
 ],
 "metadata": {
  "kernelspec": {
   "display_name": "base",
   "language": "python",
   "name": "python3"
  },
  "language_info": {
   "codemirror_mode": {
    "name": "ipython",
    "version": 3
   },
   "file_extension": ".py",
   "mimetype": "text/x-python",
   "name": "python",
   "nbconvert_exporter": "python",
   "pygments_lexer": "ipython3",
   "version": "3.8.5"
  },
  "orig_nbformat": 4
 },
 "nbformat": 4,
 "nbformat_minor": 2
}
