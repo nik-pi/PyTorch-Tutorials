{
 "cells": [
  {
   "cell_type": "markdown",
   "metadata": {},
   "source": [
    "# PyTorch Loss Functions\n",
    "## Implementing Loss Functions in PyTorch"
   ]
  },
  {
   "cell_type": "code",
   "execution_count": 1,
   "metadata": {},
   "outputs": [],
   "source": [
    "# How to Import Loss Functions in PyTorch\n",
    "import torch\n",
    "import torch.nn as nn\n",
    "\n",
    "# Example loss function imports\n",
    "mse_loss = nn.MSELoss()  # Mean Squared Error (L2 Loss)\n",
    "mae_loss = nn.L1Loss()   # Mean Absolute Error (L1 Loss)\n",
    "ce_loss = nn.CrossEntropyLoss()  # Cross-Entropy Loss"
   ]
  },
  {
   "cell_type": "code",
   "execution_count": 2,
   "metadata": {},
   "outputs": [
    {
     "name": "stdout",
     "output_type": "stream",
     "text": [
      "MSE Loss: 0.13749998807907104\n"
     ]
    }
   ],
   "source": [
    "# Calculating MSE Loss in PyTorch\n",
    "import torch\n",
    "import torch.nn as nn\n",
    "\n",
    "# Create sample values\n",
    "predicted = torch.tensor([2.5, 4.8, 6.9, 9.5])\n",
    "actual = torch.tensor([3.0, 5.0, 7.0, 9.0])\n",
    "\n",
    "# Create and use criterion\n",
    "criterion = nn.MSELoss()\n",
    "loss = criterion(predicted, actual)\n",
    "\n",
    "print(f'MSE Loss: {loss}')\n",
    "\n",
    "# Returns: MSE Loss: 0.13749998807907104"
   ]
  },
  {
   "cell_type": "code",
   "execution_count": 3,
   "metadata": {},
   "outputs": [],
   "source": [
    "# Implementing a Custom Loss Function in PyTorch\n",
    "import torch\n",
    "import torch.nn as nn\n",
    "\n",
    "class CustomLoss(nn.Module):\n",
    "    def __init__(self, custom_parameters):\n",
    "        super(CustomLoss, self).__init__()\n",
    "        self.custom_parameters = custom_parameters\n",
    "\n",
    "    def forward(self, predictions, targets):\n",
    "        # Implement your custom loss logic here\n",
    "        loss = torch.mean((predictions - targets)**2)\n",
    "        return loss"
   ]
  },
  {
   "cell_type": "markdown",
   "metadata": {},
   "source": [
    "## Tracking Loss"
   ]
  },
  {
   "cell_type": "code",
   "execution_count": 10,
   "metadata": {},
   "outputs": [],
   "source": [
    "%config InlineBackend.figure_format='retina'"
   ]
  },
  {
   "cell_type": "code",
   "execution_count": 11,
   "metadata": {},
   "outputs": [
    {
     "name": "stdout",
     "output_type": "stream",
     "text": [
      "Epoch [10/15], Loss: 1.5145269632339478\n"
     ]
    },
    {
     "data": {
      "image/png": "[encoded data removed]",
      "text/plain": [
       "<Figure size 432x288 with 1 Axes>"
      ]
     },
     "metadata": {
      "image/png": {
       "height": 277,
       "width": 388
      },
      "needs_background": "light"
     },
     "output_type": "display_data"
    }
   ],
   "source": [
    "import torch\n",
    "import torch.nn as nn\n",
    "import torch.optim as optim\n",
    "import matplotlib.pyplot as plt\n",
    "\n",
    "# Sample dataset\n",
    "X = torch.rand(10000, 1) * 10\n",
    "y = 2 * X + 1 + torch.randn(10000, 1)\n",
    "\n",
    "# Define a simple linear regression model\n",
    "class LinearRegression(nn.Module):\n",
    "    def __init__(self):\n",
    "        super(LinearRegression, self).__init__()\n",
    "        self.linear = nn.Linear(1, 1)\n",
    "\n",
    "    def forward(self, x):\n",
    "        return self.linear(x)\n",
    "\n",
    "# Initialize the model, loss function, and optimizer\n",
    "model = LinearRegression()\n",
    "criterion = nn.MSELoss()\n",
    "optimizer = optim.SGD(model.parameters(), lr=0.01)\n",
    "\n",
    "# Training loop with loss tracking\n",
    "num_epochs = 15\n",
    "losses = []\n",
    "\n",
    "for epoch in range(num_epochs):\n",
    "    # Forward pass\n",
    "    predictions = model(X)\n",
    "    \n",
    "    # Compute the loss\n",
    "    loss = criterion(predictions, y)\n",
    "    \n",
    "    # Backpropagation and optimization\n",
    "    optimizer.zero_grad()\n",
    "    loss.backward()\n",
    "    optimizer.step()\n",
    "    \n",
    "    # Append the current loss to the list\n",
    "    losses.append(loss.item())\n",
    "    \n",
    "    # Print the loss for every 10 epochs\n",
    "    if (epoch + 1) % 10 == 0:\n",
    "        print(f'Epoch [{epoch + 1}/{num_epochs}], Loss: {loss.item()}')\n",
    "\n",
    "# Plotting the loss curve\n",
    "plt.plot(losses)\n",
    "plt.xlabel('Epochs')\n",
    "plt.ylabel('Loss')\n",
    "plt.title('Loss Curve')\n",
    "plt.show()\n"
   ]
  },
  {
   "cell_type": "code",
   "execution_count": null,
   "metadata": {},
   "outputs": [],
   "source": []
  }
 ],
 "metadata": {
  "kernelspec": {
   "display_name": "base",
   "language": "python",
   "name": "python3"
  },
  "language_info": {
   "codemirror_mode": {
    "name": "ipython",
    "version": 3
   },
   "file_extension": ".py",
   "mimetype": "text/x-python",
   "name": "python",
   "nbconvert_exporter": "python",
   "pygments_lexer": "ipython3",
   "version": "3.8.5"
  },
  "orig_nbformat": 4
 },
 "nbformat": 4,
 "nbformat_minor": 2
}
