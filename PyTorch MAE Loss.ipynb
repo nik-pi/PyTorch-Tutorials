{
 "cells": [
  {
   "cell_type": "code",
   "execution_count": 2,
   "metadata": {},
   "outputs": [
    {
     "name": "stdout",
     "output_type": "stream",
     "text": [
      "MAE Loss: 0.32499992847442627\n"
     ]
    }
   ],
   "source": [
    "# Calculating MAE Loss in PyTorch\n",
    "import torch\n",
    "import torch.nn as nn\n",
    "\n",
    "# Create sample values\n",
    "predicted = torch.tensor([2.5, 4.8, 6.9, 9.5])\n",
    "actual = torch.tensor([3.0, 5.0, 7.0, 9.0])\n",
    "\n",
    "# Create and use criterion\n",
    "criterion = nn.L1Loss()\n",
    "loss = criterion(predicted, actual)\n",
    "\n",
    "print(f'MAE Loss: {loss}')\n",
    "\n",
    "# Returns: MSE Loss: 0.32499992847442627"
   ]
  },
  {
   "cell_type": "code",
   "execution_count": null,
   "metadata": {},
   "outputs": [],
   "source": []
  }
 ],
 "metadata": {
  "kernelspec": {
   "display_name": "base",
   "language": "python",
   "name": "python3"
  },
  "language_info": {
   "codemirror_mode": {
    "name": "ipython",
    "version": 3
   },
   "file_extension": ".py",
   "mimetype": "text/x-python",
   "name": "python",
   "nbconvert_exporter": "python",
   "pygments_lexer": "ipython3",
   "version": "3.8.5"
  },
  "orig_nbformat": 4
 },
 "nbformat": 4,
 "nbformat_minor": 2
}
