{
 "cells": [
  {
   "cell_type": "markdown",
   "metadata": {},
   "source": [
    "# PyTorch Cross-Entropy Loss"
   ]
  },
  {
   "cell_type": "code",
   "execution_count": 1,
   "metadata": {},
   "outputs": [],
   "source": [
    "import torch\n",
    "import torch.nn as nn"
   ]
  },
  {
   "cell_type": "code",
   "execution_count": 5,
   "metadata": {},
   "outputs": [
    {
     "name": "stdout",
     "output_type": "stream",
     "text": [
      "Input data: \n",
      "tensor([[ 0.3703, -0.1607, -0.7473, -2.2135],\n",
      "        [ 0.6929, -0.2042, -0.7660, -0.3613],\n",
      "        [-0.3363,  0.6417,  0.3103,  0.3132]])\n",
      "\n",
      "tensor([0, 1, 2])\n"
     ]
    }
   ],
   "source": [
    "# Define Some Input Data\n",
    "# Define 3 Samples and 4 Classes\n",
    "preds = torch.randn(3, 4)\n",
    "\n",
    "# Define Target Class Indices\n",
    "labels = torch.LongTensor([0, 1, 2])\n",
    "\n",
    "print(f'Input data: \\n{preds}')\n",
    "print(f'\\nLabels:\\n{labels}')"
   ]
  },
  {
   "cell_type": "code",
   "execution_count": 7,
   "metadata": {},
   "outputs": [
    {
     "name": "stdout",
     "output_type": "stream",
     "text": [
      "Loss: 1.2129982709884644\n"
     ]
    }
   ],
   "source": [
    "# Define Loss Function\n",
    "loss_func = nn.CrossEntropyLoss()\n",
    "loss = loss_func(preds, labels)\n",
    "\n",
    "print(f'Loss: {loss}')"
   ]
  },
  {
   "cell_type": "code",
   "execution_count": null,
   "metadata": {},
   "outputs": [],
   "source": [
    "# Input data: \n",
    "# tensor([[ 0.3703, -0.1607, -0.7473, -2.2135],\n",
    "#         [ 0.6929, -0.2042, -0.7660, -0.3613],\n",
    "#         [-0.3363,  0.6417,  0.3103,  0.3132]])\n",
    "\n",
    "# tensor([0, 1, 2])"
   ]
  }
 ],
 "metadata": {
  "kernelspec": {
   "display_name": "base",
   "language": "python",
   "name": "python3"
  },
  "language_info": {
   "codemirror_mode": {
    "name": "ipython",
    "version": 3
   },
   "file_extension": ".py",
   "mimetype": "text/x-python",
   "name": "python",
   "nbconvert_exporter": "python",
   "pygments_lexer": "ipython3",
   "version": "3.8.5"
  },
  "orig_nbformat": 4
 },
 "nbformat": 4,
 "nbformat_minor": 2
}
