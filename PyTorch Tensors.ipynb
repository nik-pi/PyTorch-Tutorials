{
 "cells": [
  {
   "cell_type": "markdown",
   "metadata": {},
   "source": [
    "# PyTorch Tensors"
   ]
  },
  {
   "cell_type": "code",
   "execution_count": 1,
   "metadata": {},
   "outputs": [],
   "source": [
    "import torch\n",
    "import numpy as np"
   ]
  },
  {
   "cell_type": "markdown",
   "metadata": {},
   "source": [
    "## Creating Tensors"
   ]
  },
  {
   "cell_type": "code",
   "execution_count": 2,
   "metadata": {},
   "outputs": [
    {
     "name": "stdout",
     "output_type": "stream",
     "text": [
      "tensor([[1, 2],\n",
      "        [3, 4],\n",
      "        [5, 6]])\n"
     ]
    }
   ],
   "source": [
    "# Creating a Tensor From Scratch\n",
    "data = [[1, 2], [3, 4], [5, 6]]\n",
    "tensor_data = torch.tensor(data)\n",
    "\n",
    "print(tensor_data)\n",
    "\n",
    "# Returns:\n",
    "# tensor([[1, 2],\n",
    "#         [3, 4],\n",
    "#         [5, 6]])"
   ]
  },
  {
   "cell_type": "code",
   "execution_count": 3,
   "metadata": {},
   "outputs": [
    {
     "name": "stdout",
     "output_type": "stream",
     "text": [
      "<class 'torch.Tensor'>\n"
     ]
    }
   ],
   "source": [
    "# Checking the Type of Tensors\n",
    "print(type(tensor_data))\n",
    "\n",
    "# Returns: <class 'torch.Tensor'>"
   ]
  },
  {
   "cell_type": "code",
   "execution_count": 4,
   "metadata": {},
   "outputs": [
    {
     "name": "stdout",
     "output_type": "stream",
     "text": [
      "tensor([[1, 2],\n",
      "        [3, 4],\n",
      "        [5, 6]])\n"
     ]
    }
   ],
   "source": [
    "# Creating a Tensor From NumPy\n",
    "np_array = np.array(data)\n",
    "tensor_np = torch.from_numpy(np_array)\n",
    "\n",
    "print(tensor_np)\n",
    "\n",
    "# Returns:\n",
    "# tensor([[1, 2],\n",
    "#         [3, 4],\n",
    "#         [5, 6]])"
   ]
  },
  {
   "cell_type": "markdown",
   "metadata": {},
   "source": [
    "## Creating Tensors with Random and Constant Values"
   ]
  },
  {
   "cell_type": "code",
   "execution_count": 5,
   "metadata": {},
   "outputs": [
    {
     "name": "stdout",
     "output_type": "stream",
     "text": [
      "tensor([[1., 1.],\n",
      "        [1., 1.],\n",
      "        [1., 1.]])\n"
     ]
    }
   ],
   "source": [
    "# Creating Tensors of 1s\n",
    "ones = torch.ones(size=(3,2))\n",
    "print(ones)\n",
    "\n",
    "# Returns:\n",
    "# tensor([[1., 1.],\n",
    "#         [1., 1.],\n",
    "#         [1., 1.]])"
   ]
  },
  {
   "cell_type": "code",
   "execution_count": 6,
   "metadata": {},
   "outputs": [
    {
     "name": "stdout",
     "output_type": "stream",
     "text": [
      "tensor([[0., 0.],\n",
      "        [0., 0.],\n",
      "        [0., 0.]])\n"
     ]
    }
   ],
   "source": [
    "# Creating Tensors of 0s\n",
    "zeros = torch.zeros(size=(3,2))\n",
    "print(zeros)\n",
    "\n",
    "# Returns:\n",
    "# tensor([[0., 0.],\n",
    "#         [0., 0.],\n",
    "#         [0., 0.]])"
   ]
  },
  {
   "cell_type": "code",
   "execution_count": 7,
   "metadata": {},
   "outputs": [
    {
     "name": "stdout",
     "output_type": "stream",
     "text": [
      "tensor([[2, 2],\n",
      "        [2, 2],\n",
      "        [2, 2]])\n"
     ]
    }
   ],
   "source": [
    "# Creating Tensors with Fill Values\n",
    "filled = torch.full(size=(3, 2), fill_value=2)\n",
    "print(filled)\n",
    "\n",
    "# Returns:\n",
    "# tensor([[2, 2],\n",
    "#         [2, 2],\n",
    "#         [2, 2]])"
   ]
  },
  {
   "cell_type": "code",
   "execution_count": 18,
   "metadata": {},
   "outputs": [
    {
     "name": "stdout",
     "output_type": "stream",
     "text": [
      "tensor([[0.2566, 0.7936],\n",
      "        [0.9408, 0.1332],\n",
      "        [0.9346, 0.5936]])\n"
     ]
    }
   ],
   "source": [
    "# Creating Random Tensors\n",
    "randoms = torch.rand(size=(3,2))\n",
    "print(randoms)\n",
    "\n",
    "# Returns:\n",
    "# tensor([[0.5215, 0.2354],\n",
    "#         [0.2960, 0.6190],\n",
    "#         [0.1766, 0.8673]])"
   ]
  },
  {
   "cell_type": "code",
   "execution_count": 20,
   "metadata": {},
   "outputs": [
    {
     "name": "stdout",
     "output_type": "stream",
     "text": [
      "tensor([[0.8823, 0.9150],\n",
      "        [0.3829, 0.9593],\n",
      "        [0.3904, 0.6009]])\n"
     ]
    }
   ],
   "source": [
    "# Adding Reproducibility to Our Tensors\n",
    "torch.manual_seed(42)\n",
    "randoms = torch.rand(size=(3,2))\n",
    "print(randoms)"
   ]
  },
  {
   "cell_type": "markdown",
   "metadata": {},
   "source": [
    "## Working with Different Data Types"
   ]
  },
  {
   "cell_type": "code",
   "execution_count": 18,
   "metadata": {},
   "outputs": [
    {
     "name": "stdout",
     "output_type": "stream",
     "text": [
      "torch.float32\n"
     ]
    }
   ],
   "source": [
    "# Checking the Data Type of a Tensor\n",
    "zeros = torch.zeros((3,2))\n",
    "print(zeros.dtype)\n",
    "\n",
    "# Returns: torch.float32"
   ]
  },
  {
   "cell_type": "code",
   "execution_count": 20,
   "metadata": {},
   "outputs": [
    {
     "data": {
      "text/plain": [
       "tensor([[0, 0],\n",
       "        [0, 0],\n",
       "        [0, 0]], dtype=torch.int32)"
      ]
     },
     "execution_count": 20,
     "metadata": {},
     "output_type": "execute_result"
    }
   ],
   "source": [
    "# Changing a Tensor to a Different Data Type\n",
    "zeros = torch.zeros((3, 2), dtype=torch.int)\n",
    "print(zeros)\n",
    "\n",
    "# Returns:\n",
    "# tensor([[0, 0],\n",
    "#         [0, 0],\n",
    "#         [0, 0]], dtype=torch.int32)"
   ]
  },
  {
   "cell_type": "code",
   "execution_count": 21,
   "metadata": {},
   "outputs": [
    {
     "name": "stdout",
     "output_type": "stream",
     "text": [
      "Int tensor:\n",
      "tensor([1, 2, 3, 4, 5])\n",
      "\n",
      "Float tensor:\n",
      "tensor([1., 2., 3., 4., 5.])\n"
     ]
    }
   ],
   "source": [
    "# Converting an Existing Tensor to Another Data Type\n",
    "int_tensor = torch.tensor([1, 2, 3, 4, 5])\n",
    "float_tensor = int_tensor.to(torch.float32)\n",
    "\n",
    "print(f'Int tensor:\\n{int_tensor}')\n",
    "print(f'\\nFloat tensor:\\n{float_tensor}')\n",
    "\n",
    "# Returns:\n",
    "# Int tensor:\n",
    "# tensor([1, 2, 3, 4, 5])\n",
    "\n",
    "# Float tensor:\n",
    "# tensor([1., 2., 3., 4., 5.])"
   ]
  },
  {
   "cell_type": "markdown",
   "metadata": {},
   "source": [
    "## Creating Like-Sized Tensors"
   ]
  },
  {
   "cell_type": "code",
   "execution_count": 22,
   "metadata": {},
   "outputs": [
    {
     "name": "stdout",
     "output_type": "stream",
     "text": [
      "Zeros Like:\n",
      "tensor([[0, 0],\n",
      "        [0, 0],\n",
      "        [0, 0]])\n",
      "\n",
      "Ones Like:\n",
      "tensor([[1, 1],\n",
      "        [1, 1],\n",
      "        [1, 1]])\n",
      "\n",
      "Random Like:\n",
      "tensor([[0.9350, 0.4455],\n",
      "        [0.5805, 0.0069],\n",
      "        [0.3253, 0.1886]])\n"
     ]
    }
   ],
   "source": [
    "# Creating Like-sized Tensors\n",
    "data = [[1, 2], [3, 4], [5, 6]]\n",
    "tensor_data = torch.tensor(data)\n",
    "\n",
    "zeros_like = torch.zeros_like(tensor_data)\n",
    "ones_like = torch.ones_like(tensor_data)\n",
    "random_like = torch.rand_like(tensor_data, dtype=torch.float)\n",
    "\n",
    "print(f'Zeros Like:\\n{zeros_like}')\n",
    "print(f'\\nOnes Like:\\n{ones_like}')\n",
    "print(f'\\nRandom Like:\\n{random_like}')\n",
    "\n",
    "# Returns:\n",
    "# Zeros Like: \n",
    "# tensor([[0, 0],\n",
    "#         [0, 0],\n",
    "#         [0, 0]])\n",
    "\n",
    "# Ones Like: \n",
    "# tensor([[1, 1],\n",
    "#         [1, 1],\n",
    "#         [1, 1]])\n",
    "\n",
    "# Random Like: \n",
    "# tensor([[0.9938, 0.3513],\n",
    "#         [0.6042, 0.2700],\n",
    "#         [0.7633, 0.9896]])"
   ]
  },
  {
   "cell_type": "markdown",
   "metadata": {},
   "source": [
    "## Tensor Attributes"
   ]
  },
  {
   "cell_type": "code",
   "execution_count": 23,
   "metadata": {},
   "outputs": [
    {
     "name": "stdout",
     "output_type": "stream",
     "text": [
      "Shape of tensor: torch.Size([2, 2])\n",
      "Datatype of tensor: torch.int64\n",
      "Device tensor is stored on: cpu\n"
     ]
    }
   ],
   "source": [
    "# Understanding Different Tensor Attributes\n",
    "data = torch.tensor([[1, 2], [3, 4]])\n",
    "\n",
    "print(f\"Shape of tensor: {data.shape}\")\n",
    "print(f\"Datatype of tensor: {data.dtype}\")\n",
    "print(f\"Device tensor is stored on: {data.device}\")\n",
    "\n",
    "# Returns:\n",
    "# Shape of tensor: torch.Size([2, 2])\n",
    "# Datatype of tensor: torch.int64\n",
    "# Device tensor is stored on: cpu"
   ]
  },
  {
   "cell_type": "markdown",
   "metadata": {},
   "source": [
    "## Tensor Operations"
   ]
  },
  {
   "cell_type": "code",
   "execution_count": 40,
   "metadata": {},
   "outputs": [
    {
     "name": "stdout",
     "output_type": "stream",
     "text": [
      "Indexing the first row:\n",
      "tensor([1., 1., 1.])\n",
      "Indexing the first column:\n",
      "tensor([1., 1.])\n"
     ]
    }
   ],
   "source": [
    "# Slicing a Tensor\n",
    "data = torch.ones((2, 3))\n",
    "print(f'Indexing the first row:\\n{data[0]}')\n",
    "print(f'Indexing the first column:\\n{data[:, 0]}')\n",
    "\n",
    "# Returns:\n",
    "# Indexing the first row:\n",
    "# tensor([1., 1., 1.])\n",
    "# Indexing the first column:\n",
    "# tensor([1., 1.])"
   ]
  },
  {
   "cell_type": "code",
   "execution_count": 51,
   "metadata": {},
   "outputs": [
    {
     "name": "stdout",
     "output_type": "stream",
     "text": [
      "tensor(1.)\n"
     ]
    }
   ],
   "source": [
    "# Indexing a Tensor\n",
    "data = torch.ones((2, 3))\n",
    "print(data[0][0])\n",
    "\n",
    "# Returns: tensor(1.)"
   ]
  },
  {
   "cell_type": "code",
   "execution_count": 41,
   "metadata": {},
   "outputs": [
    {
     "name": "stdout",
     "output_type": "stream",
     "text": [
      "tensor([[0., 1., 1.],\n",
      "        [0., 1., 1.]])\n"
     ]
    }
   ],
   "source": [
    "# Setting Values Using Slicing\n",
    "data = torch.ones((2, 3))\n",
    "data[:, 0] = 0\n",
    "print(data)\n",
    "\n",
    "# Returns:\n",
    "# tensor([[0., 1., 1.],\n",
    "#         [0., 1., 1.]])"
   ]
  },
  {
   "cell_type": "code",
   "execution_count": 52,
   "metadata": {},
   "outputs": [
    {
     "name": "stdout",
     "output_type": "stream",
     "text": [
      "tensor([[2., 3.],\n",
      "        [4., 5.]])\n"
     ]
    }
   ],
   "source": [
    "# Adding Tensors\n",
    "tensor1 = torch.tensor([[1, 2], [3, 4]])\n",
    "tensor2 = torch.ones((2, 2))\n",
    "added = tensor1.add(tensor2)\n",
    "# added = tensor1 + tensor2\n",
    "print(added)\n",
    "\n",
    "# Returns:\n",
    "# tensor([[2., 3.],\n",
    "#         [4., 5.]])"
   ]
  },
  {
   "cell_type": "code",
   "execution_count": 47,
   "metadata": {},
   "outputs": [
    {
     "name": "stdout",
     "output_type": "stream",
     "text": [
      "tensor([[0.2825, 0.0252, 0.4279],\n",
      "        [0.1075, 0.4267, 0.1567]])\n"
     ]
    }
   ],
   "source": [
    "# Multipling Tensors\n",
    "tensor = torch.rand((2, 3))\n",
    "multiplied = tensor.multiply(tensor)\n",
    "# multiplied = tensor * tensor\n",
    "print(multiplied)\n",
    "\n",
    "# Returns: \n",
    "# tensor([[0.2825, 0.0252, 0.4279],\n",
    "#         [0.1075, 0.4267, 0.1567]])"
   ]
  },
  {
   "cell_type": "code",
   "execution_count": 50,
   "metadata": {},
   "outputs": [
    {
     "name": "stdout",
     "output_type": "stream",
     "text": [
      "Original tensor:\n",
      "tensor([[1., 1., 1.],\n",
      "        [1., 1., 1.]])\n",
      "\n",
      "Tensor with inplace operations:\n",
      "tensor([[4., 4., 4.],\n",
      "        [4., 4., 4.]])\n"
     ]
    }
   ],
   "source": [
    "# In Place Operations\n",
    "ones = torch.ones((2, 3))\n",
    "print(f'Original tensor:\\n{ones}')\n",
    "ones.add_(3)\n",
    "print(f'\\nTensor with inplace operations:\\n{ones}')\n",
    "\n",
    "# Returns:\n",
    "# Original tensor:\n",
    "# tensor([[1., 1., 1.],\n",
    "#         [1., 1., 1.]])\n",
    "\n",
    "# Tensor with inplace operations:\n",
    "# tensor([[4., 4., 4.],\n",
    "#         [4., 4., 4.]])"
   ]
  },
  {
   "cell_type": "markdown",
   "metadata": {},
   "source": [
    "## Manipulating Tensors"
   ]
  },
  {
   "cell_type": "code",
   "execution_count": 42,
   "metadata": {},
   "outputs": [
    {
     "name": "stdout",
     "output_type": "stream",
     "text": [
      "Original tensor:\n",
      "tensor([[1., 1., 1.],\n",
      "        [1., 1., 1.]])\n",
      "Transposed tensor:\n",
      "tensor([[1., 1.],\n",
      "        [1., 1.],\n",
      "        [1., 1.]])\n"
     ]
    }
   ],
   "source": [
    "# Transposing a Tensor\n",
    "data = torch.ones((2, 3))\n",
    "transposed = data.T\n",
    "\n",
    "print(f'Original tensor:\\n{data}')\n",
    "print(f'\\nTransposed tensor:\\n{transposed}')\n",
    "\n",
    "# Returns:\n",
    "# Original tensor:\n",
    "# tensor([[1., 1., 1.],\n",
    "#         [1., 1., 1.]])\n",
    "#\n",
    "# Transposed tensor:\n",
    "# tensor([[1., 1.],\n",
    "#         [1., 1.],\n",
    "#         [1., 1.]])"
   ]
  },
  {
   "cell_type": "code",
   "execution_count": 57,
   "metadata": {},
   "outputs": [
    {
     "name": "stdout",
     "output_type": "stream",
     "text": [
      "Original tensor:\n",
      "tensor([[1., 1.],\n",
      "        [1., 1.],\n",
      "        [1., 1.]])\n",
      "\n",
      "Updated tensor:\n",
      "tensor([1., 1., 1., 1., 1., 1.])\n"
     ]
    }
   ],
   "source": [
    "# Reshaping a Tensor Using view\n",
    "ones = torch.ones((3, 2))\n",
    "one_dim = ones.view(6)\n",
    "\n",
    "print(f'Original tensor:\\n{ones}')\n",
    "print(f'\\nUpdated tensor:\\n{one_dim}')\n",
    "\n",
    "# Returns:\n",
    "# Original tensor:\n",
    "# tensor([[1., 1.],\n",
    "#         [1., 1.],\n",
    "#         [1., 1.]])\n",
    "\n",
    "# Updated tensor:\n",
    "# tensor([1., 1., 1., 1., 1., 1.])"
   ]
  },
  {
   "cell_type": "code",
   "execution_count": 59,
   "metadata": {},
   "outputs": [
    {
     "name": "stdout",
     "output_type": "stream",
     "text": [
      "Original tensor:\n",
      "tensor([[1., 1.],\n",
      "        [1., 1.],\n",
      "        [1., 1.]])\n",
      "\n",
      "Updated tensor:\n",
      "tensor([[1., 1., 1.],\n",
      "        [1., 1., 1.]])\n"
     ]
    }
   ],
   "source": [
    "# Reshaping a Tensor Using view to Multiple Dimensions\n",
    "ones = torch.ones((3, 2))\n",
    "one_dim = ones.view(2, 3)\n",
    "\n",
    "print(f'Original tensor:\\n{ones}')\n",
    "print(f'\\nUpdated tensor:\\n{one_dim}')\n",
    "\n",
    "# Returns:\n",
    "# Original tensor:\n",
    "# tensor([[1., 1.],\n",
    "#         [1., 1.],\n",
    "#         [1., 1.]])\n",
    "\n",
    "# Updated tensor:\n",
    "# tensor([[1., 1., 1.],\n",
    "#         [1., 1., 1.]])"
   ]
  },
  {
   "cell_type": "code",
   "execution_count": 58,
   "metadata": {},
   "outputs": [
    {
     "name": "stdout",
     "output_type": "stream",
     "text": [
      "Original tensor:\n",
      "tensor([[1., 1.],\n",
      "        [1., 1.],\n",
      "        [1., 1.]])\n",
      "\n",
      "Updated tensor:\n",
      "tensor([[1., 1., 1.],\n",
      "        [1., 1., 1.]])\n"
     ]
    }
   ],
   "source": [
    "# Reshaping a Tensor Using view Using Negative Values\n",
    "ones = torch.ones((3, 2))\n",
    "one_dim = ones.view(-1, 3)\n",
    "\n",
    "print(f'Original tensor:\\n{ones}')\n",
    "print(f'\\nUpdated tensor:\\n{one_dim}')\n",
    "\n",
    "# Returns:\n",
    "# Original tensor:\n",
    "# tensor([[1., 1.],\n",
    "#         [1., 1.],\n",
    "#         [1., 1.]])\n",
    "\n",
    "# Updated tensor:\n",
    "# tensor([[1., 1., 1.],\n",
    "#         [1., 1., 1.]])"
   ]
  },
  {
   "cell_type": "markdown",
   "metadata": {},
   "source": [
    "## Converting Tensors to NumPy"
   ]
  },
  {
   "cell_type": "code",
   "execution_count": 60,
   "metadata": {},
   "outputs": [
    {
     "name": "stdout",
     "output_type": "stream",
     "text": [
      "[1 2 3 4]\n"
     ]
    }
   ],
   "source": [
    "# Converting a Tensor to a NumPy Array\n",
    "tensor = torch.tensor([1, 2, 3, 4])\n",
    "numpy_array = tensor.numpy()\n",
    "print(numpy_array)\n",
    "\n",
    "# Returns: [1 2 3 4]"
   ]
  },
  {
   "cell_type": "markdown",
   "metadata": {},
   "source": [
    "## Working with Devices"
   ]
  },
  {
   "cell_type": "code",
   "execution_count": 62,
   "metadata": {},
   "outputs": [],
   "source": [
    "# Creating a Device Variable\n",
    "device = 'cuda' if torch.cuda.is_available() else 'cpu'"
   ]
  },
  {
   "cell_type": "code",
   "execution_count": 63,
   "metadata": {},
   "outputs": [
    {
     "name": "stdout",
     "output_type": "stream",
     "text": [
      "cpu\n"
     ]
    }
   ],
   "source": [
    "# Checking the Device of a Tensor\n",
    "tensor = torch.tensor([1, 2, 3, 4])\n",
    "print(tensor.device)\n",
    "\n",
    "# Returns: cpu"
   ]
  },
  {
   "cell_type": "code",
   "execution_count": null,
   "metadata": {},
   "outputs": [],
   "source": [
    "# Moving a Tensor to a Device\n",
    "tensor = tensor.to(device)"
   ]
  },
  {
   "cell_type": "code",
   "execution_count": null,
   "metadata": {},
   "outputs": [],
   "source": [
    "# Creating a Tensor with a Device\n",
    "tensor = torch.tensor([1, 2, 3, 4], device=device)"
   ]
  },
  {
   "cell_type": "markdown",
   "metadata": {},
   "source": [
    "## Tracking Gradients in PyTorch"
   ]
  },
  {
   "cell_type": "code",
   "execution_count": 65,
   "metadata": {},
   "outputs": [
    {
     "name": "stdout",
     "output_type": "stream",
     "text": [
      "tensor([1., 2., 3., 4.], requires_grad=True)\n"
     ]
    }
   ],
   "source": [
    "# Adding Gradient Tracking\n",
    "tensor = torch.tensor([1, 2, 3, 4], dtype=torch.float32, requires_grad=True)\n",
    "print(tensor)\n",
    "\n",
    "# Returns:\n",
    "# tensor([1., 2., 3., 4.], requires_grad=True)"
   ]
  }
 ],
 "metadata": {
  "kernelspec": {
   "display_name": "base",
   "language": "python",
   "name": "python3"
  },
  "language_info": {
   "codemirror_mode": {
    "name": "ipython",
    "version": 3
   },
   "file_extension": ".py",
   "mimetype": "text/x-python",
   "name": "python",
   "nbconvert_exporter": "python",
   "pygments_lexer": "ipython3",
   "version": "3.8.5"
  },
  "orig_nbformat": 4
 },
 "nbformat": 4,
 "nbformat_minor": 2
}
